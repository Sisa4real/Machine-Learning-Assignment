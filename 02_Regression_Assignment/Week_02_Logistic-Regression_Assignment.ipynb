{
 "cells": [
  {
   "cell_type": "code",
   "execution_count": 1,
   "id": "04fc39c1-56c0-4001-a0b0-14ceb684f909",
   "metadata": {},
   "outputs": [],
   "source": [
    "#Importing all the required libraries\n",
    "import pandas as pd\n",
    "import numpy as np\n",
    "import matplotlib.pyplot as plt\n",
    "import seaborn as sns\n",
    "from sklearn.model_selection import train_test_split\n",
    "from sklearn.linear_model import LinearRegression\n",
    "from sklearn.preprocessing import OneHotEncoder\n",
    "from sklearn.metrics import mean_squared_error\n"
   ]
  },
  {
   "cell_type": "code",
   "execution_count": 2,
   "id": "3b253601",
   "metadata": {},
   "outputs": [],
   "source": [
    "# Load the dataset\n",
    "pumpkins_data = pd.read_csv('US-pumpkins.csv')\n"
   ]
  },
  {
   "cell_type": "code",
   "execution_count": 3,
   "id": "b73badbd",
   "metadata": {},
   "outputs": [
    {
     "name": "stdout",
     "output_type": "stream",
     "text": [
      "   City Name Type       Package      Variety Sub Variety  Grade     Date  \\\n",
      "0  BALTIMORE  NaN  24 inch bins          NaN         NaN    NaN  4/29/17   \n",
      "1  BALTIMORE  NaN  24 inch bins          NaN         NaN    NaN   5/6/17   \n",
      "2  BALTIMORE  NaN  24 inch bins  HOWDEN TYPE         NaN    NaN  9/24/16   \n",
      "3  BALTIMORE  NaN  24 inch bins  HOWDEN TYPE         NaN    NaN  9/24/16   \n",
      "4  BALTIMORE  NaN  24 inch bins  HOWDEN TYPE         NaN    NaN  11/5/16   \n",
      "\n",
      "   Low Price  High Price  Mostly Low  ...  Unit of Sale Quality Condition  \\\n",
      "0      270.0       280.0       270.0  ...           NaN     NaN       NaN   \n",
      "1      270.0       280.0       270.0  ...           NaN     NaN       NaN   \n",
      "2      160.0       160.0       160.0  ...           NaN     NaN       NaN   \n",
      "3      160.0       160.0       160.0  ...           NaN     NaN       NaN   \n",
      "4       90.0       100.0        90.0  ...           NaN     NaN       NaN   \n",
      "\n",
      "  Appearance Storage  Crop Repack  Trans Mode  Unnamed: 24  Unnamed: 25  \n",
      "0        NaN     NaN   NaN      E         NaN          NaN          NaN  \n",
      "1        NaN     NaN   NaN      E         NaN          NaN          NaN  \n",
      "2        NaN     NaN   NaN      N         NaN          NaN          NaN  \n",
      "3        NaN     NaN   NaN      N         NaN          NaN          NaN  \n",
      "4        NaN     NaN   NaN      N         NaN          NaN          NaN  \n",
      "\n",
      "[5 rows x 26 columns]\n"
     ]
    }
   ],
   "source": [
    "# Displaying  the first few rows of the dataset\n",
    "print(pumpkins_data.head())"
   ]
  },
  {
   "cell_type": "code",
   "execution_count": 4,
   "id": "d65a4f53-2d76-4c25-b543-b4b245b2ae85",
   "metadata": {},
   "outputs": [
    {
     "name": "stdout",
     "output_type": "stream",
     "text": [
      "       Grade    Low Price   High Price   Mostly Low  Mostly High  Environment  \\\n",
      "count    0.0  1757.000000  1757.000000  1654.000000  1654.000000          0.0   \n",
      "mean     NaN   124.571338   132.970939   128.170550   132.491802          NaN   \n",
      "std      NaN    83.876591    89.524958    86.512161    88.442967          NaN   \n",
      "min      NaN     0.240000     0.240000     0.240000     0.240000          NaN   \n",
      "25%      NaN    24.000000    24.500000    24.625000    26.125000          NaN   \n",
      "50%      NaN   140.000000   150.000000   147.000000   150.000000          NaN   \n",
      "75%      NaN   180.000000   200.000000   185.000000   200.000000          NaN   \n",
      "max      NaN   480.000000   480.000000   480.000000   480.000000          NaN   \n",
      "\n",
      "       Quality  Condition  Appearance  Storage  Crop  Trans Mode  Unnamed: 24  \n",
      "count      0.0        0.0         0.0      0.0   0.0         0.0          0.0  \n",
      "mean       NaN        NaN         NaN      NaN   NaN         NaN          NaN  \n",
      "std        NaN        NaN         NaN      NaN   NaN         NaN          NaN  \n",
      "min        NaN        NaN         NaN      NaN   NaN         NaN          NaN  \n",
      "25%        NaN        NaN         NaN      NaN   NaN         NaN          NaN  \n",
      "50%        NaN        NaN         NaN      NaN   NaN         NaN          NaN  \n",
      "75%        NaN        NaN         NaN      NaN   NaN         NaN          NaN  \n",
      "max        NaN        NaN         NaN      NaN   NaN         NaN          NaN  \n"
     ]
    }
   ],
   "source": [
    "# Checking the statistics of the dataset\n",
    "print(pumpkins_data.describe())"
   ]
  },
  {
   "cell_type": "code",
   "execution_count": 5,
   "id": "d0afa3e6-41d2-4af0-947f-49493710ab18",
   "metadata": {},
   "outputs": [
    {
     "name": "stdout",
     "output_type": "stream",
     "text": [
      "City Name           object\n",
      "Type                object\n",
      "Package             object\n",
      "Variety             object\n",
      "Sub Variety         object\n",
      "Grade              float64\n",
      "Date                object\n",
      "Low Price          float64\n",
      "High Price         float64\n",
      "Mostly Low         float64\n",
      "Mostly High        float64\n",
      "Origin              object\n",
      "Origin District     object\n",
      "Item Size           object\n",
      "Color               object\n",
      "Environment        float64\n",
      "Unit of Sale        object\n",
      "Quality            float64\n",
      "Condition          float64\n",
      "Appearance         float64\n",
      "Storage            float64\n",
      "Crop               float64\n",
      "Repack              object\n",
      "Trans Mode         float64\n",
      "Unnamed: 24        float64\n",
      "Unnamed: 25         object\n",
      "dtype: object\n"
     ]
    }
   ],
   "source": [
    "# Check the data types of each column\n",
    "print(pumpkins_data.dtypes)"
   ]
  },
  {
   "cell_type": "code",
   "execution_count": 6,
   "id": "5dde3810-2e8b-4558-8a96-2d6c99514f78",
   "metadata": {},
   "outputs": [
    {
     "name": "stdout",
     "output_type": "stream",
     "text": [
      "City Name             0\n",
      "Type               1712\n",
      "Package               0\n",
      "Variety               5\n",
      "Sub Variety        1461\n",
      "Grade              1757\n",
      "Date                  0\n",
      "Low Price             0\n",
      "High Price            0\n",
      "Mostly Low          103\n",
      "Mostly High         103\n",
      "Origin                3\n",
      "Origin District    1626\n",
      "Item Size           279\n",
      "Color               616\n",
      "Environment        1757\n",
      "Unit of Sale       1595\n",
      "Quality            1757\n",
      "Condition          1757\n",
      "Appearance         1757\n",
      "Storage            1757\n",
      "Crop               1757\n",
      "Repack                0\n",
      "Trans Mode         1757\n",
      "Unnamed: 24        1757\n",
      "Unnamed: 25        1654\n",
      "dtype: int64\n"
     ]
    }
   ],
   "source": [
    "# Check for missing values\n",
    "print(pumpkins_data.isnull().sum())"
   ]
  },
  {
   "cell_type": "code",
   "execution_count": 7,
   "id": "69f7d17c-5eb7-46f3-a67a-d2c2b0828d1b",
   "metadata": {},
   "outputs": [],
   "source": [
    "# Convert the 'Date' column to datetime type\n",
    "pumpkins_data['Date'] = pd.to_datetime(pumpkins_data['Date'])"
   ]
  },
  {
   "cell_type": "code",
   "execution_count": 8,
   "id": "27800160",
   "metadata": {},
   "outputs": [],
   "source": [
    "# Extract the month from the 'Date' column\n",
    "pumpkins_data['Month'] = pumpkins_data['Date'].dt.month"
   ]
  },
  {
   "cell_type": "code",
   "execution_count": 9,
   "id": "e3a25418",
   "metadata": {},
   "outputs": [
    {
     "name": "stdout",
     "output_type": "stream",
     "text": [
      "   City Name Type       Package      Variety Sub Variety  Grade       Date  \\\n",
      "0  BALTIMORE  NaN  24 inch bins          NaN         NaN    NaN 2017-04-29   \n",
      "1  BALTIMORE  NaN  24 inch bins          NaN         NaN    NaN 2017-05-06   \n",
      "2  BALTIMORE  NaN  24 inch bins  HOWDEN TYPE         NaN    NaN 2016-09-24   \n",
      "3  BALTIMORE  NaN  24 inch bins  HOWDEN TYPE         NaN    NaN 2016-09-24   \n",
      "4  BALTIMORE  NaN  24 inch bins  HOWDEN TYPE         NaN    NaN 2016-11-05   \n",
      "\n",
      "   Low Price  High Price  Mostly Low  ...  Quality Condition Appearance  \\\n",
      "0      270.0       280.0       270.0  ...      NaN       NaN        NaN   \n",
      "1      270.0       280.0       270.0  ...      NaN       NaN        NaN   \n",
      "2      160.0       160.0       160.0  ...      NaN       NaN        NaN   \n",
      "3      160.0       160.0       160.0  ...      NaN       NaN        NaN   \n",
      "4       90.0       100.0        90.0  ...      NaN       NaN        NaN   \n",
      "\n",
      "  Storage Crop  Repack Trans Mode  Unnamed: 24  Unnamed: 25  Month  \n",
      "0     NaN  NaN       E        NaN          NaN          NaN      4  \n",
      "1     NaN  NaN       E        NaN          NaN          NaN      5  \n",
      "2     NaN  NaN       N        NaN          NaN          NaN      9  \n",
      "3     NaN  NaN       N        NaN          NaN          NaN      9  \n",
      "4     NaN  NaN       N        NaN          NaN          NaN     11  \n",
      "\n",
      "[5 rows x 27 columns]\n"
     ]
    }
   ],
   "source": [
    "# Display the updated DataFrame\n",
    "print(pumpkins_data.head())"
   ]
  },
  {
   "cell_type": "code",
   "execution_count": 10,
   "id": "cc91298d-0488-4174-a2c7-bbbc91585012",
   "metadata": {},
   "outputs": [],
   "source": [
    "# Select the features (input variables)\n",
    "numeric_columns = []\n",
    "categorical_columns = ['Package', 'Variety', 'City Name', 'Month']"
   ]
  },
  {
   "cell_type": "code",
   "execution_count": 11,
   "id": "9b9f3151",
   "metadata": {},
   "outputs": [],
   "source": [
    "# Convertiing the categorical variables to one-hot encoding\n",
    "encoder = OneHotEncoder(sparse=False, handle_unknown='ignore')\n",
    "encoded_features = pd.DataFrame(encoder.fit_transform(pumpkins_data[categorical_columns]))\n",
    "encoded_features.columns = encoder.get_feature_names_out(categorical_columns)"
   ]
  },
  {
   "cell_type": "code",
   "execution_count": 12,
   "id": "ced55d61",
   "metadata": {},
   "outputs": [],
   "source": [
    "# Combine encoded categorical features\n",
    "features = encoded_features\n"
   ]
  },
  {
   "cell_type": "code",
   "execution_count": 13,
   "id": "aa08e43e",
   "metadata": {},
   "outputs": [],
   "source": [
    "# Select the target variable\n",
    "target = pumpkins_data['High Price']"
   ]
  },
  {
   "cell_type": "code",
   "execution_count": 14,
   "id": "2f444a88",
   "metadata": {},
   "outputs": [],
   "source": [
    "# Split the data into training and testing sets\n",
    "X_train, X_test, y_train, y_test = train_test_split(features, target, test_size=0.2, random_state=42)"
   ]
  },
  {
   "cell_type": "code",
   "execution_count": 15,
   "id": "c264c468",
   "metadata": {},
   "outputs": [],
   "source": [
    "# Create an instance of the Linear Regression model\n",
    "model = LinearRegression()"
   ]
  },
  {
   "cell_type": "code",
   "execution_count": 16,
   "id": "f3c54f2f",
   "metadata": {},
   "outputs": [
    {
     "data": {
      "text/plain": [
       "LinearRegression()"
      ]
     },
     "execution_count": 16,
     "metadata": {},
     "output_type": "execute_result"
    }
   ],
   "source": [
    "# Train the model\n",
    "model.fit(X_train, y_train)"
   ]
  },
  {
   "cell_type": "code",
   "execution_count": 17,
   "id": "0eca5049",
   "metadata": {},
   "outputs": [],
   "source": [
    "# Make predictions on the test set\n",
    "predictions = model.predict(X_test)"
   ]
  },
  {
   "cell_type": "code",
   "execution_count": 18,
   "id": "ce78940a-4b11-47ee-a090-c97ad05476e3",
   "metadata": {},
   "outputs": [
    {
     "name": "stdout",
     "output_type": "stream",
     "text": [
      "Mean Squared Error (MSE): 1749.2215298251065\n"
     ]
    }
   ],
   "source": [
    "# making Prediction on the test set\n",
    "y_pred = model.predict(X_test)\n",
    "\n",
    "# model evealuation using mean squared error\n",
    "mse = mean_squared_error(y_test, y_pred)\n",
    "print(\"Mean Squared Error (MSE):\", mse)\n"
   ]
  },
  {
   "cell_type": "code",
   "execution_count": 19,
   "id": "12736e0e-87be-40fd-be40-ccb32e81b245",
   "metadata": {},
   "outputs": [
    {
     "name": "stdout",
     "output_type": "stream",
     "text": [
      "Root Mean Squared Error (RMSE): 41.82369579347462\n"
     ]
    }
   ],
   "source": [
    "# Calculating  the Root Mean Squared Error (RMSE)\n",
    "rmse = np.sqrt(mse)\n",
    "\n",
    "print(\"Root Mean Squared Error (RMSE):\", rmse)\n"
   ]
  },
  {
   "cell_type": "code",
   "execution_count": 20,
   "id": "434ca14a-1c1f-43bd-89ce-f20fe5e206d6",
   "metadata": {
    "scrolled": true
   },
   "outputs": [
    {
     "data": {
      "image/png": "[encoded data removed]",
      "text/plain": [
       "<Figure size 864x648 with 2 Axes>"
      ]
     },
     "metadata": {
      "needs_background": "light"
     },
     "output_type": "display_data"
    }
   ],
   "source": [
    "# Creating a correlation matrix\n",
    "correlation_matrix = pumpkins_data.corr()\n",
    "plt.figure(figsize=(12, 9))\n",
    "sns.heatmap(correlation_matrix, annot=True, cmap='coolwarm')\n",
    "plt.title('Correlation Matrix')\n",
    "plt.tight_layout()\n",
    "plt.show()"
   ]
  },
  {
   "cell_type": "code",
   "execution_count": 23,
   "id": "44491425-1a2c-45c3-b34e-65be1fae6aff",
   "metadata": {},
   "outputs": [
    {
     "data": {
      "image/png": "[encoded data removed]",
      "text/plain": [
       "<Figure size 432x288 with 1 Axes>"
      ]
     },
     "metadata": {
      "needs_background": "light"
     },
     "output_type": "display_data"
    }
   ],
   "source": [
    "# Create scatter plot to visualize the relationship between numerical variables\n",
    "numerical_columns = ['Low Price', 'High Price']\n",
    "pumpkins_data[numerical_columns].plot(kind='scatter', x='Low Price', y='High Price')\n",
    "\n",
    "plt.title('Scatter Plot - Min Price vs Max Price')\n",
    "plt.xlabel('Min Price')\n",
    "plt.ylabel('Max Price')\n",
    "\n",
    "plt.show()\n"
   ]
  },
  {
   "cell_type": "code",
   "execution_count": null,
   "id": "31ee9a4b-a395-4ceb-98db-99ea8f36cb73",
   "metadata": {},
   "outputs": [],
   "source": []
  }
 ],
 "metadata": {
  "kernelspec": {
   "display_name": "Python 3 (ipykernel)",
   "language": "python",
   "name": "python3"
  },
  "language_info": {
   "codemirror_mode": {
    "name": "ipython",
    "version": 3
   },
   "file_extension": ".py",
   "mimetype": "text/x-python",
   "name": "python",
   "nbconvert_exporter": "python",
   "pygments_lexer": "ipython3",
   "version": "3.9.12"
  }
 },
 "nbformat": 4,
 "nbformat_minor": 5
}
